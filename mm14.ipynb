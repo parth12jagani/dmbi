{
  "nbformat": 4,
  "nbformat_minor": 0,
  "metadata": {
    "colab": {
      "name": "mm.ipynb",
      "provenance": [],
      "include_colab_link": true
    },
    "kernelspec": {
      "name": "python3",
      "display_name": "Python 3"
    }
  },
  "cells": [
    {
      "cell_type": "markdown",
      "metadata": {
        "id": "view-in-github",
        "colab_type": "text"
      },
      "source": [
        "<a href=\"https://colab.research.google.com/github/parth12jagani/dmbi/blob/master/mm14.ipynb\" target=\"_parent\"><img src=\"https://colab.research.google.com/assets/colab-badge.svg\" alt=\"Open In Colab\"/></a>"
      ]
    },
    {
      "cell_type": "code",
      "metadata": {
        "id": "sLItCMXitbgw",
        "colab_type": "code",
        "outputId": "464a91b1-fa81-4ec8-a2d2-9cd40a83f4c3",
        "colab": {
          "base_uri": "https://localhost:8080/",
          "height": 393
        }
      },
      "source": [
        "from tkinter import *\n",
        "from tkinter import scrolledtext\n",
        "from test_seq2seq import ChatBot\n",
        "from tkinter import LEFT,RIGHT,TOP,BOTTOM\n",
        "import libarchive\n",
        "\n",
        "#Calling Class for chat prediction\n",
        "ob = ChatBot()\n",
        "\n",
        "#main display chat window \n",
        "window = Tk()\n",
        "window.title(\"ChatCraZie\")\n",
        "window.geometry('550x450')\n",
        "\n",
        "#top frame to display the chat history\n",
        "frame1 = Frame(window, class_=\"TOP\")\n",
        "frame1.pack(expand=True, fill=BOTH)\n",
        "\n",
        "#text area with scroll bar\n",
        "textarea = Text(frame1, state=DISABLED)\n",
        "vsb = Scrollbar(frame1, takefocus=\n",
        "                0, command=textarea.yview)\n",
        "vsb.pack(side=RIGHT, fill=Y)\n",
        "textarea.pack(side=RIGHT, expand=YES, fill=BOTH)\n",
        "textarea[\"yscrollcommand\"]=vsb.set\n",
        "\n",
        "#bottom frame to display current user question text box \n",
        "frame2 = Frame(window, class_=\"Chatbox_Entry\")\n",
        "frame2.pack(fill=X, anchor=N)\n",
        "\n",
        "lbl = Label(frame2, text=\"User : \")\n",
        "lbl.pack(side=LEFT)\n",
        " \n",
        "\n",
        "def bind_entry(self, event, handler):\n",
        "    txt.bind(event, handler)\n",
        "\n",
        "def clicked(event): \n",
        "    #to automate the scrollbar action downward according to the text\n",
        "    relative_position_of_scrollbar = vsb.get()[1]\n",
        "    res =txt.get() \n",
        "    #function call\n",
        "    ans = ob.test_run(res)\n",
        "    pr=\"Human : \" + res + \"\\n\" + \"ChatBot : \" + ans + \"\\n\"\n",
        "    #the state of the textarea is normalto write the text to the top area in the interface\n",
        "    textarea.config(state=NORMAL)\n",
        "    textarea.insert(END,pr)\n",
        "    #it is again disabled to avoid the user modifications in the history\n",
        "    textarea.config(state=DISABLED)\n",
        "    txt.delete(0,END)\n",
        "    if relative_position_of_scrollbar == 1:\n",
        "        textarea.yview_moveto(1)\n",
        "    txt.focus()\n",
        "\n",
        "txt = Entry(frame2,width=70)\n",
        "txt.pack(side=LEFT,expand=YES, fill=BOTH)\n",
        "txt.focus()\n",
        "txt.bind(\"<Return>\", clicked)\n",
        "\n",
        "window.mainloop()"
      ],
      "execution_count": 3,
      "outputs": [
        {
          "output_type": "error",
          "ename": "ModuleNotFoundError",
          "evalue": "ignored",
          "traceback": [
            "\u001b[0;31m---------------------------------------------------------------------------\u001b[0m",
            "\u001b[0;31mModuleNotFoundError\u001b[0m                       Traceback (most recent call last)",
            "\u001b[0;32m<ipython-input-3-69da52892f32>\u001b[0m in \u001b[0;36m<module>\u001b[0;34m()\u001b[0m\n\u001b[1;32m      1\u001b[0m \u001b[0;32mfrom\u001b[0m \u001b[0mtkinter\u001b[0m \u001b[0;32mimport\u001b[0m \u001b[0;34m*\u001b[0m\u001b[0;34m\u001b[0m\u001b[0;34m\u001b[0m\u001b[0m\n\u001b[1;32m      2\u001b[0m \u001b[0;32mfrom\u001b[0m \u001b[0mtkinter\u001b[0m \u001b[0;32mimport\u001b[0m \u001b[0mscrolledtext\u001b[0m\u001b[0;34m\u001b[0m\u001b[0;34m\u001b[0m\u001b[0m\n\u001b[0;32m----> 3\u001b[0;31m \u001b[0;32mfrom\u001b[0m \u001b[0mtest_seq2seq\u001b[0m \u001b[0;32mimport\u001b[0m \u001b[0mChatBot\u001b[0m\u001b[0;34m\u001b[0m\u001b[0;34m\u001b[0m\u001b[0m\n\u001b[0m\u001b[1;32m      4\u001b[0m \u001b[0;32mfrom\u001b[0m \u001b[0mtkinter\u001b[0m \u001b[0;32mimport\u001b[0m \u001b[0mLEFT\u001b[0m\u001b[0;34m,\u001b[0m\u001b[0mRIGHT\u001b[0m\u001b[0;34m,\u001b[0m\u001b[0mTOP\u001b[0m\u001b[0;34m,\u001b[0m\u001b[0mBOTTOM\u001b[0m\u001b[0;34m\u001b[0m\u001b[0;34m\u001b[0m\u001b[0m\n\u001b[1;32m      5\u001b[0m \u001b[0;32mimport\u001b[0m \u001b[0mlibarchive\u001b[0m\u001b[0;34m\u001b[0m\u001b[0;34m\u001b[0m\u001b[0m\n",
            "\u001b[0;31mModuleNotFoundError\u001b[0m: No module named 'test_seq2seq'",
            "",
            "\u001b[0;31m---------------------------------------------------------------------------\u001b[0;32m\nNOTE: If your import is failing due to a missing package, you can\nmanually install dependencies using either !pip or !apt.\n\nTo view examples of installing some common dependencies, click the\n\"Open Examples\" button below.\n\u001b[0;31m---------------------------------------------------------------------------\u001b[0m\n"
          ]
        }
      ]
    },
    {
      "cell_type": "code",
      "metadata": {
        "id": "6YsGsL17sZhi",
        "colab_type": "code",
        "colab": {
          "base_uri": "https://localhost:8080/",
          "height": 129
        },
        "outputId": "2bd12e35-59aa-4c8b-fb98-9573d4b39c02"
      },
      "source": [
        "from google.colab import drive\n",
        "drive.mount('/content/drive')"
      ],
      "execution_count": 4,
      "outputs": [
        {
          "output_type": "stream",
          "text": [
            "Go to this URL in a browser: https://accounts.google.com/o/oauth2/auth?client_id=947318989803-6bn6qk8qdgf4n4g3pfee6491hc0brc4i.apps.googleusercontent.com&redirect_uri=urn%3Aietf%3Awg%3Aoauth%3A2.0%3Aoob&scope=email%20https%3A%2F%2Fwww.googleapis.com%2Fauth%2Fdocs.test%20https%3A%2F%2Fwww.googleapis.com%2Fauth%2Fdrive%20https%3A%2F%2Fwww.googleapis.com%2Fauth%2Fdrive.photos.readonly%20https%3A%2F%2Fwww.googleapis.com%2Fauth%2Fpeopleapi.readonly&response_type=code\n",
            "\n",
            "Enter your authorization code:\n",
            "··········\n",
            "Mounted at /content/drive\n"
          ],
          "name": "stdout"
        }
      ]
    }
  ]
}