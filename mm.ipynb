{
  "nbformat": 4,
  "nbformat_minor": 0,
  "metadata": {
    "colab": {
      "name": "mm.ipynb",
      "provenance": [],
      "include_colab_link": true
    },
    "kernelspec": {
      "name": "python3",
      "display_name": "Python 3"
    }
  },
  "cells": [
    {
      "cell_type": "markdown",
      "metadata": {
        "id": "view-in-github",
        "colab_type": "text"
      },
      "source": [
        "<a href=\"https://colab.research.google.com/github/parth12jagani/dmbi/blob/master/mm.ipynb\" target=\"_parent\"><img src=\"https://colab.research.google.com/assets/colab-badge.svg\" alt=\"Open In Colab\"/></a>"
      ]
    },
    {
      "cell_type": "code",
      "metadata": {
        "id": "sLItCMXitbgw",
        "colab_type": "code",
        "outputId": "cdd5a9a8-d87c-4cf9-abea-da7f38d9cd32",
        "colab": {
          "base_uri": "https://localhost:8080/",
          "height": 417
        }
      },
      "source": [
        "from tkinter import *\n",
        "from tkinter import scrolledtext\n",
        "from test_seq2seq import ChatBot\n",
        "from tkinter import LEFT,RIGHT,TOP,BOTTOM\n",
        "\n",
        "#Calling Class for chat prediction\n",
        "ob = ChatBot()\n",
        "\n",
        "#main display chat window \n",
        "window = Tk()\n",
        "window.title(\"ChatCraZie\")\n",
        "window.geometry('550x450')\n",
        "\n",
        "#top frame to display the chat history\n",
        "frame1 = Frame(window, class_=\"TOP\")\n",
        "frame1.pack(expand=True, fill=BOTH)\n",
        "\n",
        "#text area with scroll bar\n",
        "textarea = Text(frame1, state=DISABLED)\n",
        "vsb = Scrollbar(frame1, takefocus=\n",
        "                0, command=textarea.yview)\n",
        "vsb.pack(side=RIGHT, fill=Y)\n",
        "textarea.pack(side=RIGHT, expand=YES, fill=BOTH)\n",
        "textarea[\"yscrollcommand\"]=vsb.set\n",
        "\n",
        "#bottom frame to display current user question text box \n",
        "frame2 = Frame(window, class_=\"Chatbox_Entry\")\n",
        "frame2.pack(fill=X, anchor=N)\n",
        "\n",
        "lbl = Label(frame2, text=\"User : \")\n",
        "lbl.pack(side=LEFT)\n",
        " \n",
        "\n",
        "def bind_entry(self, event, handler):\n",
        "    txt.bind(event, handler)\n",
        "\n",
        "def clicked(event): \n",
        "    #to automate the scrollbar action downward according to the text\n",
        "    relative_position_of_scrollbar = vsb.get()[1]\n",
        "    res =txt.get() \n",
        "    #function call\n",
        "    ans = ob.test_run(res)\n",
        "    pr=\"Human : \" + res + \"\\n\" + \"ChatBot : \" + ans + \"\\n\"\n",
        "    #the state of the textarea is normalto write the text to the top area in the interface\n",
        "    textarea.config(state=NORMAL)\n",
        "    textarea.insert(END,pr)\n",
        "    #it is again disabled to avoid the user modifications in the history\n",
        "    textarea.config(state=DISABLED)\n",
        "    txt.delete(0,END)\n",
        "    if relative_position_of_scrollbar == 1:\n",
        "        textarea.yview_moveto(1)\n",
        "    txt.focus()\n",
        "\n",
        "txt = Entry(frame2,width=70)\n",
        "txt.pack(side=LEFT,expand=YES, fill=BOTH)\n",
        "txt.focus()\n",
        "txt.bind(\"<Return>\", clicked)\n",
        "\n",
        "window.mainloop()"
      ],
      "execution_count": 0,
      "outputs": [
        {
          "output_type": "stream",
          "text": [
            "Using TensorFlow backend.\n"
          ],
          "name": "stderr"
        },
        {
          "output_type": "error",
          "ename": "FileNotFoundError",
          "evalue": "ignored",
          "traceback": [
            "\u001b[0;31m---------------------------------------------------------------------------\u001b[0m",
            "\u001b[0;31mFileNotFoundError\u001b[0m                         Traceback (most recent call last)",
            "\u001b[0;32m<ipython-input-1-f6f606488b48>\u001b[0m in \u001b[0;36m<module>\u001b[0;34m()\u001b[0m\n\u001b[1;32m      5\u001b[0m \u001b[0;34m\u001b[0m\u001b[0m\n\u001b[1;32m      6\u001b[0m \u001b[0;31m#Calling Class for chat prediction\u001b[0m\u001b[0;34m\u001b[0m\u001b[0;34m\u001b[0m\u001b[0;34m\u001b[0m\u001b[0m\n\u001b[0;32m----> 7\u001b[0;31m \u001b[0mob\u001b[0m \u001b[0;34m=\u001b[0m \u001b[0mChatBot\u001b[0m\u001b[0;34m(\u001b[0m\u001b[0;34m)\u001b[0m\u001b[0;34m\u001b[0m\u001b[0;34m\u001b[0m\u001b[0m\n\u001b[0m\u001b[1;32m      8\u001b[0m \u001b[0;34m\u001b[0m\u001b[0m\n\u001b[1;32m      9\u001b[0m \u001b[0;31m#main display chat window\u001b[0m\u001b[0;34m\u001b[0m\u001b[0;34m\u001b[0m\u001b[0;34m\u001b[0m\u001b[0m\n",
            "\u001b[0;32m/content/test_seq2seq.py\u001b[0m in \u001b[0;36m__init__\u001b[0;34m(self)\u001b[0m\n\u001b[1;32m     46\u001b[0m \u001b[0;34m\u001b[0m\u001b[0m\n\u001b[1;32m     47\u001b[0m     \u001b[0;32mdef\u001b[0m \u001b[0m__init__\u001b[0m\u001b[0;34m(\u001b[0m\u001b[0mself\u001b[0m\u001b[0;34m)\u001b[0m\u001b[0;34m:\u001b[0m\u001b[0;34m\u001b[0m\u001b[0;34m\u001b[0m\u001b[0m\n\u001b[0;32m---> 48\u001b[0;31m         \u001b[0mself\u001b[0m\u001b[0;34m.\u001b[0m\u001b[0mword2em\u001b[0m \u001b[0;34m=\u001b[0m \u001b[0mload_glove_embeddings\u001b[0m\u001b[0;34m(\u001b[0m\u001b[0;34m)\u001b[0m\u001b[0;34m\u001b[0m\u001b[0;34m\u001b[0m\u001b[0m\n\u001b[0m\u001b[1;32m     49\u001b[0m         self.target_word2idx = np.load(\n\u001b[1;32m     50\u001b[0m             'E:/chatbot/ChatCrazie/support files/word-glove-target-word2idx.npy').item()\n",
            "\u001b[0;32m/content/test_seq2seq.py\u001b[0m in \u001b[0;36mload_glove_embeddings\u001b[0;34m()\u001b[0m\n\u001b[1;32m     24\u001b[0m \u001b[0;32mdef\u001b[0m \u001b[0mload_glove_embeddings\u001b[0m\u001b[0;34m(\u001b[0m\u001b[0;34m)\u001b[0m\u001b[0;34m:\u001b[0m\u001b[0;34m\u001b[0m\u001b[0;34m\u001b[0m\u001b[0m\n\u001b[1;32m     25\u001b[0m     \u001b[0mword2em\u001b[0m \u001b[0;34m=\u001b[0m \u001b[0;34m{\u001b[0m\u001b[0;34m}\u001b[0m\u001b[0;34m\u001b[0m\u001b[0;34m\u001b[0m\u001b[0m\n\u001b[0;32m---> 26\u001b[0;31m     \u001b[0mfile\u001b[0m \u001b[0;34m=\u001b[0m \u001b[0mopen\u001b[0m\u001b[0;34m(\u001b[0m\u001b[0mGLOVE_MODEL\u001b[0m\u001b[0;34m,\u001b[0m \u001b[0mmode\u001b[0m\u001b[0;34m=\u001b[0m\u001b[0;34m'rt'\u001b[0m\u001b[0;34m,\u001b[0m \u001b[0mencoding\u001b[0m\u001b[0;34m=\u001b[0m\u001b[0;34m'utf8'\u001b[0m\u001b[0;34m)\u001b[0m\u001b[0;34m\u001b[0m\u001b[0;34m\u001b[0m\u001b[0m\n\u001b[0m\u001b[1;32m     27\u001b[0m     \u001b[0;32mfor\u001b[0m \u001b[0mline\u001b[0m \u001b[0;32min\u001b[0m \u001b[0mfile\u001b[0m\u001b[0;34m:\u001b[0m\u001b[0;34m\u001b[0m\u001b[0;34m\u001b[0m\u001b[0m\n\u001b[1;32m     28\u001b[0m         \u001b[0mwords\u001b[0m \u001b[0;34m=\u001b[0m \u001b[0mline\u001b[0m\u001b[0;34m.\u001b[0m\u001b[0mstrip\u001b[0m\u001b[0;34m(\u001b[0m\u001b[0;34m)\u001b[0m\u001b[0;34m.\u001b[0m\u001b[0msplit\u001b[0m\u001b[0;34m(\u001b[0m\u001b[0;34m)\u001b[0m\u001b[0;34m\u001b[0m\u001b[0;34m\u001b[0m\u001b[0m\n",
            "\u001b[0;31mFileNotFoundError\u001b[0m: [Errno 2] No such file or directory: 'E:/chatbot/ChatCrazie/glove.6B.100d.txt'"
          ]
        }
      ]
    }
  ]
}