{
  "nbformat": 4,
  "nbformat_minor": 0,
  "metadata": {
    "colab": {
      "name": "mm.ipynb",
      "provenance": [],
      "include_colab_link": true
    },
    "kernelspec": {
      "name": "python3",
      "display_name": "Python 3"
    }
  },
  "cells": [
    {
      "cell_type": "markdown",
      "metadata": {
        "id": "view-in-github",
        "colab_type": "text"
      },
      "source": [
        "<a href=\"https://colab.research.google.com/github/parth12jagani/dmbi/blob/master/e.ipynb\" target=\"_parent\"><img src=\"https://colab.research.google.com/assets/colab-badge.svg\" alt=\"Open In Colab\"/></a>"
      ]
    },
    {
      "cell_type": "code",
      "metadata": {
        "id": "sLItCMXitbgw",
        "colab_type": "code",
        "colab": {}
      },
      "source": [
        "from tkinter import *\n",
        "from tkinter import scrolledtext\n",
        "from test_seq2seq import ChatBot\n",
        "from tkinter import LEFT,RIGHT,TOP,BOTTOM\n",
        "\n",
        "#Calling Class for chat prediction\n",
        "ob = ChatBot()\n",
        "\n",
        "#main display chat window \n",
        "window = Tk()\n",
        "window.title(\"ChatCraZie\")\n",
        "window.geometry('550x450')\n",
        "\n",
        "#top frame to display the chat history\n",
        "frame1 = Frame(window, class_=\"TOP\")\n",
        "frame1.pack(expand=True, fill=BOTH)\n",
        "\n",
        "#text area with scroll bar\n",
        "textarea = Text(frame1, state=DISABLED)\n",
        "vsb = Scrollbar(frame1, takefocus=\n",
        "                0, command=textarea.yview)\n",
        "vsb.pack(side=RIGHT, fill=Y)\n",
        "textarea.pack(side=RIGHT, expand=YES, fill=BOTH)\n",
        "textarea[\"yscrollcommand\"]=vsb.set\n",
        "\n",
        "#bottom frame to display current user question text box \n",
        "frame2 = Frame(window, class_=\"Chatbox_Entry\")\n",
        "frame2.pack(fill=X, anchor=N)\n",
        "\n",
        "lbl = Label(frame2, text=\"User : \")\n",
        "lbl.pack(side=LEFT)\n",
        " \n",
        "\n",
        "def bind_entry(self, event, handler):\n",
        "    txt.bind(event, handler)\n",
        "\n",
        "def clicked(event): \n",
        "    #to automate the scrollbar action downward according to the text\n",
        "    relative_position_of_scrollbar = vsb.get()[1]\n",
        "    res =txt.get() \n",
        "    #function call\n",
        "    ans = ob.test_run(res)\n",
        "    pr=\"Human : \" + res + \"\\n\" + \"ChatBot : \" + ans + \"\\n\"\n",
        "    #the state of the textarea is normalto write the text to the top area in the interface\n",
        "    textarea.config(state=NORMAL)\n",
        "    textarea.insert(END,pr)\n",
        "    #it is again disabled to avoid the user modifications in the history\n",
        "    textarea.config(state=DISABLED)\n",
        "    txt.delete(0,END)\n",
        "    if relative_position_of_scrollbar == 1:\n",
        "        textarea.yview_moveto(1)\n",
        "    txt.focus()\n",
        "\n",
        "txt = Entry(frame2,width=70)\n",
        "txt.pack(side=LEFT,expand=YES, fill=BOTH)\n",
        "txt.focus()\n",
        "txt.bind(\"<Return>\", clicked)\n",
        "\n",
        "window.mainloop()"
      ],
      "execution_count": 0,
      "outputs": []
    }
  ]
}